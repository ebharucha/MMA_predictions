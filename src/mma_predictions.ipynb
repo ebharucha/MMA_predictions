{
 "cells": [
  {
   "cell_type": "markdown",
   "metadata": {},
   "source": [
    "# MMA_predictions\n",
    "Using basic supervised learning to predict fight outcomes\n",
    "\n",
    "The current dataset is restricted to the UFC\n",
    "\n",
    "Have not fine tuned any of the models.\n",
    "The Deep Learning models are WIP & not operational\n",
    "\n",
    "The overall proecss of acquiring data and running the models needs to be automated.  \n",
    "\n",
    "To run ...\n",
    "\n",
    "## Step 1\n",
    "Create \"fight_card.xlsx\" in the data directory with the following structure\n",
    "weight_class      fighter1    fighter2\n",
    "or populate the 'df_fight_card' DataFrame\n",
    "This contains the bouts for which outcomes would get predicted\n",
    "\n",
    "## Step 2\n",
    "Execite the 'Load Dependencies' section\n",
    "\n",
    "## Step 3\n",
    "Execute the 'Load Datasets' section\n",
    "\n",
    "## Step 4\n",
    "Execute the 'Predict' section\n",
    "\n",
    "Ed Bharucha "
   ]
  },
  {
   "cell_type": "markdown",
   "metadata": {},
   "source": [
    "# Load dependencies"
   ]
  },
  {
   "cell_type": "code",
   "execution_count": 1,
   "metadata": {},
   "outputs": [],
   "source": [
    "import category_encoders as ce\n",
    "import numpy as np\n",
    "import pandas as pd\n",
    "import pickle\n",
    "import re\n",
    "import requests\n",
    "from tqdm import tqdm_notebook as tqdm\n",
    "from bs4 import BeautifulSoup\n",
    "import string\n",
    "import warnings\n",
    "\n",
    "from sklearn.model_selection import train_test_split\n",
    "from sklearn.preprocessing import StandardScaler, MinMaxScaler\n",
    "from sklearn.model_selection import cross_val_score\n",
    "from sklearn.ensemble import RandomForestClassifier\n",
    "\n",
    "import lightgbm as lgb\n",
    "\n",
    "warnings.filterwarnings(\"ignore\")\n",
    "# warnings.filterwarnings(action='once')"
   ]
  },
  {
   "cell_type": "code",
   "execution_count": 4,
   "metadata": {},
   "outputs": [],
   "source": [
    "def scale(scaler, data):\n",
    "  if (scaler == 'standard'):\n",
    "    std_scaler = StandardScaler()\n",
    "    return (std_scaler.fit_transform(data))\n",
    "  elif (scaler == 'minmax'):\n",
    "    minmax_scaler = MinMaxScaler(feature_range=(-1,1))\n",
    "    return (minmax_scaler.fit_transform(data))"
   ]
  },
  {
   "cell_type": "markdown",
   "metadata": {
    "heading_collapsed": true
   },
   "source": [
    "# Acquire & Prepare Fight Data"
   ]
  },
  {
   "cell_type": "markdown",
   "metadata": {
    "heading_collapsed": true,
    "hidden": true
   },
   "source": [
    "## Fighter stats"
   ]
  },
  {
   "cell_type": "code",
   "execution_count": null,
   "metadata": {
    "hidden": true
   },
   "outputs": [],
   "source": [
    "first_names = []\n",
    "last_names = []\n",
    "nick_names = []\n",
    "heights = []\n",
    "weights = []\n",
    "reaches = []\n",
    "stances = []\n",
    "wins = []\n",
    "losses = []\n",
    "draws = []\n",
    "fighter_urls = []"
   ]
  },
  {
   "cell_type": "code",
   "execution_count": null,
   "metadata": {
    "hidden": true
   },
   "outputs": [],
   "source": [
    "for c in list(string.ascii_lowercase):\n",
    "    fighters_url = f'http://ufcstats.com/statistics/fighters?char={c}&page=all'\n",
    "    \n",
    "    page = requests.get(fighters_url)\n",
    "    soup = BeautifulSoup(page.content, 'html.parser')\n",
    "    fighters_data = soup.find_all('tr')\n",
    "\n",
    "    for fighter in fighters_data[2:]:\n",
    "        fighter_data = fighter.find_all('td')\n",
    "        first_names.append(fighter_data[0].get_text(strip=True))\n",
    "        last_names.append(fighter_data[1].get_text(strip=True))\n",
    "        nick_names.append(fighter_data[2].get_text(strip=True))\n",
    "        heights.append(fighter_data[3].get_text(strip=True))\n",
    "        weights.append(fighter_data[4].get_text(strip=True))\n",
    "        reaches.append(fighter_data[5].get_text(strip=True))\n",
    "        stances.append(fighter_data[6].get_text(strip=True))\n",
    "        wins.append(fighter_data[7].get_text(strip=True))\n",
    "        losses.append(fighter_data[8].get_text(strip=True))\n",
    "        draws.append(fighter_data[9].get_text(strip=True))\n",
    "        fighter_urls.append(fighter_data[0].find('a')['href'])"
   ]
  },
  {
   "cell_type": "code",
   "execution_count": null,
   "metadata": {
    "hidden": true
   },
   "outputs": [],
   "source": [
    "fighter_data = pd.DataFrame(\n",
    "    {\n",
    "        'first_name' : first_names,\n",
    "        'last_name' : last_names,\n",
    "        'nick_name' : nick_names,\n",
    "        'height' : heights,\n",
    "        'weight' : weights,\n",
    "        'reach' : reaches,\n",
    "        'stance' : stances,\n",
    "        'wins' : wins,\n",
    "        'losses' : losses,\n",
    "        'draws' : draws,\n",
    "        'fighter_url' : fighter_urls,\n",
    "    }\n",
    ")\n",
    "\n",
    "fighter_data.to_csv('data/fighter_data_base.csv')"
   ]
  },
  {
   "cell_type": "code",
   "execution_count": null,
   "metadata": {
    "hidden": true
   },
   "outputs": [],
   "source": [
    "def height_cm(height):\n",
    "    try:\n",
    "        feet = height.split('\"')[0].split(\"'\")[0]\n",
    "    except:\n",
    "        feet = ''\n",
    "    try:\n",
    "        inches = height.split('\"')[0].split(\"'\")[1]\n",
    "    except:\n",
    "        inches = ''\n",
    "\n",
    "    if not feet.strip().isdigit():\n",
    "        feet = 0\n",
    "    if not inches.strip().isdigit():\n",
    "        inches = 0\n",
    "    return (int(feet)*30.48 + int(inches)*2.54)\n",
    "\n",
    "def reach_cm(reach):\n",
    "    regnumber = re.compile(r'\\d+(?:,\\d*)?')\n",
    "    rch = reach.split('\"')[0]\n",
    "\n",
    "    if regnumber.match(rch.strip()):\n",
    "        inches = rch.split('.')[0]\n",
    "    else:\n",
    "        inches = 0\n",
    "    \n",
    "    return(int(inches)*2.54)\n",
    "\n",
    "def weight_lbs(weight):\n",
    "    lbs = weight.split(' ')[0]\n",
    "    if not lbs.strip().isdigit():\n",
    "        lbs = 0\n",
    "    \n",
    "    return(int(lbs))"
   ]
  },
  {
   "cell_type": "code",
   "execution_count": null,
   "metadata": {
    "hidden": true
   },
   "outputs": [],
   "source": [
    "fighter_data['height'] = fighter_data['height'].apply(lambda x: height_cm(x))\n",
    "fighter_data['reach'] = fighter_data['reach'].apply(lambda x: reach_cm(x))\n",
    "fighter_data['weight'] = fighter_data['weight'].apply(lambda x: weight_lbs(x))\n",
    "\n",
    "fighter_data.wins = pd.to_numeric(fighter_data.wins)\n",
    "fighter_data.losses = pd.to_numeric(fighter_data.losses)\n",
    "fighter_data.draws = pd.to_numeric(fighter_data.draws)"
   ]
  },
  {
   "cell_type": "code",
   "execution_count": null,
   "metadata": {
    "hidden": true
   },
   "outputs": [],
   "source": [
    "SLpM = []\n",
    "Str_Acc = []\n",
    "SApM = []\n",
    "Str_Dep = []\n",
    "TD_Avg = []\n",
    "TD_Acc = []\n",
    "TD_Def = []\n",
    "Sub_Avg = []\n",
    "\n",
    "for url in tqdm(fighter_data.fighter_url):\n",
    "    page = requests.get(url)\n",
    "    soup = BeautifulSoup(page.content, 'html.parser')\n",
    "    career_stats = soup.find(class_='b-list__info-box b-list__info-box_style_middle-width js-guide clearfix').find_all('li')\n",
    "    \n",
    "    SLpM.append(career_stats[0].get_text(strip=True).split(':')[1])\n",
    "    Str_Acc.append(career_stats[1].get_text(strip=True).split(':')[1])\n",
    "    SApM.append(career_stats[2].get_text(strip=True).split(':')[1])\n",
    "    Str_Dep.append(career_stats[3].get_text(strip=True).split(':')[1])\n",
    "    TD_Avg.append(career_stats[5].get_text(strip=True).split(':')[1])\n",
    "    TD_Acc.append(career_stats[6].get_text(strip=True).split(':')[1])\n",
    "    TD_Def.append(career_stats[7].get_text(strip=True).split(':')[1])\n",
    "    Sub_Avg.append(career_stats[8].get_text(strip=True).split(':')[1])\n"
   ]
  },
  {
   "cell_type": "code",
   "execution_count": null,
   "metadata": {
    "hidden": true
   },
   "outputs": [],
   "source": [
    "fighter_data['full_name'] = fighter_data.first_name + \" \" + fighter_data.last_name"
   ]
  },
  {
   "cell_type": "code",
   "execution_count": null,
   "metadata": {
    "hidden": true
   },
   "outputs": [],
   "source": [
    "# fighter_data.to_csv('../data/fighter_data.csv')\n",
    "# with open ('../data/fighter_data.pkl', 'wb') as pklfile:\n",
    "#     pickle.dump(fighter_data, pklfile)\n",
    "\n",
    "with open ('../data/fighter_data.pkl', 'rb') as pklfile:\n",
    "    fighter_data = pickle.load(pklfile)"
   ]
  },
  {
   "cell_type": "markdown",
   "metadata": {
    "heading_collapsed": true,
    "hidden": true
   },
   "source": [
    "## Fight results"
   ]
  },
  {
   "cell_type": "code",
   "execution_count": null,
   "metadata": {
    "hidden": true
   },
   "outputs": [],
   "source": [
    "fight_data_url = 'http://ufcstats.com/statistics/events/completed?page=all'\n",
    "\n",
    "page = requests.get(fight_data_url)\n",
    "soup = BeautifulSoup(page.content, 'html.parser')"
   ]
  },
  {
   "cell_type": "code",
   "execution_count": null,
   "metadata": {
    "hidden": true
   },
   "outputs": [],
   "source": [
    "fight_list = soup.find('tbody').find_all('a')\n",
    "fight_card_names = [fight.get_text(strip=True) for fight in fight_list]\n",
    "fight_card_urls = [fight['href'] for fight in fight_list]"
   ]
  },
  {
   "cell_type": "code",
   "execution_count": null,
   "metadata": {
    "hidden": true
   },
   "outputs": [],
   "source": [
    "fight_card = []\n",
    "fight_card_url = []\n",
    "fighter1 = []\n",
    "fighter2 = []\n",
    "weight_class = []\n",
    "winner = []\n",
    "method = []\n",
    "round_ = []\n",
    "i = 0\n",
    "\n",
    "for url in tqdm(fight_card_urls[1:]):\n",
    "    page = requests.get(url)\n",
    "    soup = BeautifulSoup(page.content,'html.parser')\n",
    "    full_fight_card = soup.find('tbody')\n",
    "    full_fight_card_fights = full_fight_card.find_all('tr')\n",
    "    for fight in full_fight_card_fights:\n",
    "        fight_card.append(fight_card_names[i+1])\n",
    "        fight_card_url.append(url)\n",
    "        fighter1.append(fight.find_all('td')[1].find_all('a')[0].get_text(strip=True))\n",
    "        fighter2.append(fight.find_all('td')[1].find_all('a')[1].get_text(strip=True))\n",
    "        weight_class.append(fight.find_all('td')[6].get_text(strip=True))\n",
    "        winner.append(fighter1[-1])\n",
    "        method.append(fight.find_all('td')[7].get_text(strip=True))\n",
    "        round_.append(fight.find_all('td')[8].get_text(strip=True))\n",
    "    i+=1"
   ]
  },
  {
   "cell_type": "code",
   "execution_count": null,
   "metadata": {
    "hidden": true
   },
   "outputs": [],
   "source": [
    "fight_card_data = pd.DataFrame(\n",
    "    {\n",
    "        'fight_card' : fight_card,\n",
    "        'fight_card_url' : fight_card_url,\n",
    "        'fighter1' : fighter1,\n",
    "        'fighter2' : fighter2,\n",
    "        'weight_class' : weight_class,\n",
    "        'winner' : winner,\n",
    "        'method' : method,\n",
    "        'round' : round_,\n",
    "    }\n",
    ")\n",
    "\n",
    "fight_card_data.to_csv('../data/fight_card_data.csv')"
   ]
  },
  {
   "cell_type": "code",
   "execution_count": null,
   "metadata": {
    "hidden": true
   },
   "outputs": [],
   "source": [
    "start_idx = 25\n",
    "inc = 25\n",
    "end_idx = start_idx + inc\n",
    "\n",
    "fight_card_data_ = fight_card_data\n",
    "\n",
    "while start_idx <= fight_card_data.shape[0]:\n",
    "    fight_card_data_.loc[start_idx:end_idx,['fighter1', 'fighter2']] = fight_card_data_.loc[start_idx:end_idx,['fighter2', 'fighter1']].values\n",
    "    start_idx = end_idx + 25\n",
    "    end_idx = start_idx + inc"
   ]
  },
  {
   "cell_type": "code",
   "execution_count": null,
   "metadata": {
    "hidden": true
   },
   "outputs": [],
   "source": [
    "# with open ('../data/fight_card_data.pkl', 'wb') as pklfile:\n",
    "#     pickle.dump(fight_card_data, pklfile)\n",
    "\n",
    "# with open ('../data/fight_card_data_.pkl', 'wb') as pklfile:\n",
    "#     pickle.dump(fight_card_data_, pklfile)\n",
    "\n",
    "# with open ('../data/fight_card_data.pkl', 'rb') as pklfile:\n",
    "#     fight_card_data = pickle.load(pklfile)\n",
    "    \n",
    "with open ('../data/fight_card_data_.pkl', 'rb') as pklfile:\n",
    "    fight_card_data_ = pickle.load(pklfile)    "
   ]
  },
  {
   "cell_type": "markdown",
   "metadata": {
    "heading_collapsed": true,
    "hidden": true
   },
   "source": [
    "## Consolidated dataset (fights + fighter stats.)"
   ]
  },
  {
   "cell_type": "code",
   "execution_count": null,
   "metadata": {
    "hidden": true
   },
   "outputs": [],
   "source": [
    "fight_card_data_ = fight_card_data_.merge(fighter_data, left_on=['fighter1'], right_on=['full_name'], how='left').\\\n",
    "drop(columns=['first_name', 'last_name', 'nick_name', 'fighter_url'])\n",
    "\n",
    "fight_card_data_.rename(columns={'height':'fighter1_height', 'weight':'fighter1_weight', 'reach':'fighter1_reach',\\\n",
    "                                 'stance':'fighter1_stance','wins':'fighter1_wins', 'losses':'fighter1_losses',\\\n",
    "                                 'draws':'fighter1_draws', 'SLpM':'fighter1_SLpM', 'Str_Acc':'fighter1_Str_Acc',\\\n",
    "                                 'SApM':'fighter1_SApM', 'Str_Dep':'fighter1_Str_Dep','TD_Avg':'fighter1_TD_Avg',\\\n",
    "                                 'TD_Acc':'fighter1_TD_Acc', 'TD_Def':'fighter1_TD_Def',\\\n",
    "                                 'Sub_Avg':'fighter1_Sub_Avg','full_name':'fighter1_full_name'}, inplace=True)"
   ]
  },
  {
   "cell_type": "code",
   "execution_count": null,
   "metadata": {
    "hidden": true
   },
   "outputs": [],
   "source": [
    "fight_card_data_ = fight_card_data_.merge(fighter_data, left_on=['fighter2'], right_on=['full_name'], how='left').\\\n",
    "drop(columns=['first_name', 'last_name', 'nick_name', 'fighter_url'])\n",
    "\n",
    "fight_card_data_.rename(columns={'height':'fighter2_height', 'weight':'fighter2_weight', 'reach':'fighter2_reach',\\\n",
    "                                 'stance':'fighter2_stance','wins':'fighter2_wins', 'losses':'fighter2_losses',\\\n",
    "                                 'draws':'fighter2_draws', 'SLpM':'fighter2_SLpM', 'Str_Acc':'fighter2_Str_Acc',\\\n",
    "                                 'SApM':'fighter2_SApM', 'Str_Dep':'fighter2_Str_Dep','TD_Avg':'fighter2_TD_Avg',\\\n",
    "                                 'TD_Acc':'fighter2_TD_Acc', 'TD_Def':'fighter2_TD_Def',\\\n",
    "                                 'Sub_Avg':'fighter2_Sub_Avg','full_name':'fighter2_full_name'}, inplace=True)"
   ]
  },
  {
   "cell_type": "code",
   "execution_count": null,
   "metadata": {
    "hidden": true
   },
   "outputs": [],
   "source": [
    "# with open ('../data/fight_data_full.pkl', 'wb') as pklfile:\n",
    "#     pickle.dump(fight_card_data_, pklfile)\n",
    "    \n",
    "with open ('../data/fight_data_full.pkl', 'rb') as pklfile:\n",
    "    fight_data_full = pickle.load(pklfile)    "
   ]
  },
  {
   "cell_type": "code",
   "execution_count": null,
   "metadata": {
    "hidden": true
   },
   "outputs": [],
   "source": [
    "fight_data_full.head()"
   ]
  },
  {
   "cell_type": "markdown",
   "metadata": {
    "heading_collapsed": true,
    "hidden": true
   },
   "source": [
    "## Finalize & Encode dataset"
   ]
  },
  {
   "cell_type": "code",
   "execution_count": 3,
   "metadata": {
    "hidden": true
   },
   "outputs": [],
   "source": [
    "with open ('../data/fighter_data.pkl', 'rb') as pklfile:\n",
    "    fighter_data = pickle.load(pklfile)\n",
    "\n",
    "with open ('../data/fighter_data_en.pkl', 'rb') as pklfile:\n",
    "    fighter_data_en = pickle.load(pklfile)    \n",
    "    \n",
    "with open ('../data/fight_card_data_.pkl', 'rb') as pklfile:\n",
    "    fight_card_data_ = pickle.load(pklfile)   \n",
    "    \n",
    "with open ('../data/fight_data_full.pkl', 'rb') as pklfile:\n",
    "    fight_data_full = pickle.load(pklfile) "
   ]
  },
  {
   "cell_type": "markdown",
   "metadata": {
    "heading_collapsed": true,
    "hidden": true
   },
   "source": [
    "### Encode Fighter Data"
   ]
  },
  {
   "cell_type": "code",
   "execution_count": 11,
   "metadata": {
    "hidden": true
   },
   "outputs": [
    {
     "name": "stdout",
     "output_type": "stream",
     "text": [
      "[\"first_name=><class 'str'> \", \"last_name=><class 'str'> \", \"nick_name=><class 'str'> \", \"height=><class 'numpy.float64'> \", \"weight=><class 'numpy.int64'> \", \"reach=><class 'numpy.float64'> \", \"stance=><class 'str'> \", \"wins=><class 'numpy.int64'> \", \"losses=><class 'numpy.int64'> \", \"draws=><class 'numpy.int64'> \", \"fighter_url=><class 'str'> \", \"SLpM=><class 'str'> \", \"Str_Acc=><class 'str'> \", \"SApM=><class 'str'> \", \"Str_Dep=><class 'str'> \", \"TD_Avg=><class 'str'> \", \"TD_Acc=><class 'str'> \", \"TD_Def=><class 'str'> \", \"Sub_Avg=><class 'str'> \", \"full_name=><class 'str'> \"]\n"
     ]
    }
   ],
   "source": [
    "print ([f'{col}=>{type(fighter_data[col][0])} ' for col in fighter_data.columns])"
   ]
  },
  {
   "cell_type": "code",
   "execution_count": null,
   "metadata": {
    "hidden": true
   },
   "outputs": [],
   "source": [
    "# Encode fighter data\n",
    "\n",
    "import category_encoders as ce\n",
    "\n",
    "enc = ce.HashingEncoder(cols = ['stance'])\n",
    "fighter_data = enc.fit_transform(fighter_data)\n",
    "\n",
    "fighter_data['SLpM'] = pd.to_numeric(fighter_data['SLpM'])\n",
    "\n",
    "fighter_data['Str_Acc'] = fighter_data['Str_Acc'].str.replace('%', '')\n",
    "fighter_data['Str_Acc'] = pd.to_numeric(fighter_data['Str_Acc'])\n",
    "\n",
    "fighter_data['SApM'] = pd.to_numeric(fighter_data['SApM'])\n",
    "\n",
    "fighter_data['Str_Dep'] = fighter_data['Str_Dep'].str.replace('%', '')\n",
    "fighter_data['Str_Dep'] = pd.to_numeric(fighter_data['Str_Dep'])\n",
    "\n",
    "fighter_data['TD_Avg'] = pd.to_numeric(fighter_data['TD_Avg'])\n",
    "\n",
    "fighter_data['TD_Acc'] = fighter_data['TD_Acc'].str.replace('%', '')\n",
    "fighter_data['TD_Acc'] = pd.to_numeric(fighter_data['TD_Acc'])\n",
    "\n",
    "fighter_data['TD_Def'] = fighter_data['TD_Def'].str.replace('%', '')\n",
    "fighter_data['TD_Def'] = pd.to_numeric(fighter_data['TD_Def'])\n",
    "\n",
    "fighter_data['Sub_Avg'] = pd.to_numeric(fighter_data['Sub_Avg'])\n",
    "\n",
    "# with open ('../data/fighter_data_en.pkl', 'wb') as pklfile:\n",
    "#     pickle.dump(fighter_data, pklfile)"
   ]
  },
  {
   "cell_type": "code",
   "execution_count": null,
   "metadata": {
    "hidden": true
   },
   "outputs": [],
   "source": [
    "fighter_full_name_unique = fighter_data.full_name.unique()\n",
    "\n",
    "enc = ce.OrdinalEncoder(fighter_full_name_unique)\n",
    "fighter_full_name_unique_enc = enc.fit_transform(fighter_full_name_unique)"
   ]
  },
  {
   "cell_type": "code",
   "execution_count": null,
   "metadata": {
    "hidden": true
   },
   "outputs": [],
   "source": [
    "cols = ['fighter1', 'fighter2', 'weight_class','winner', \\\n",
    "        'fighter1_height', 'fighter1_weight','fighter1_reach', 'fighter1_stance',\\\n",
    "        'fighter1_wins', 'fighter1_losses', 'fighter1_draws', 'fighter1_SLpM',\\\n",
    "        'fighter1_Str_Acc', 'fighter1_SApM', 'fighter1_Str_Dep', 'fighter1_TD_Avg',\\\n",
    "        'fighter1_TD_Acc', 'fighter1_TD_Def', 'fighter1_Sub_Avg',\\\n",
    "        'fighter2_height', 'fighter2_weight', 'fighter2_reach', 'fighter2_stance',\\\n",
    "        'fighter2_wins', 'fighter2_losses', 'fighter2_draws', 'fighter2_SLpM',\\\n",
    "        'fighter2_Str_Acc', 'fighter2_SApM', 'fighter2_Str_Dep', 'fighter2_TD_Avg',\\\n",
    "        'fighter2_TD_Acc', 'fighter2_TD_Def', 'fighter2_Sub_Avg']"
   ]
  },
  {
   "cell_type": "code",
   "execution_count": null,
   "metadata": {
    "hidden": true
   },
   "outputs": [],
   "source": [
    "fight_data_full_ = fight_data_full[cols]"
   ]
  },
  {
   "cell_type": "code",
   "execution_count": null,
   "metadata": {
    "hidden": true
   },
   "outputs": [],
   "source": [
    "import category_encoders as ce\n",
    "\n",
    "enc = ce.HashingEncoder(cols = ['weight_class', 'fighter1_stance', 'fighter2_stance'])\n",
    "fight_data_full_ = enc.fit_transform(fight_data_full_)"
   ]
  },
  {
   "cell_type": "markdown",
   "metadata": {
    "hidden": true
   },
   "source": [
    "### Prepare Relevant Data for Modeling"
   ]
  },
  {
   "cell_type": "code",
   "execution_count": 39,
   "metadata": {
    "hidden": true
   },
   "outputs": [],
   "source": [
    "# Relevant Fighter Data\n",
    "\n",
    "fighter_relevant_cols = ['col_0', 'col_1', 'col_2', 'col_3', 'col_4', 'col_5', 'col_6', 'col_7',\n",
    "       'height', 'weight', 'reach',\n",
    "       'wins', 'losses', 'draws', 'SLpM', 'Str_Acc', 'SApM',\n",
    "       'Str_Dep', 'TD_Avg', 'TD_Acc', 'TD_Def', 'Sub_Avg', 'full_name']\n",
    "fighter_data_relevant = fighter_data_en[fighter_relevant_cols]"
   ]
  },
  {
   "cell_type": "code",
   "execution_count": 40,
   "metadata": {
    "hidden": true
   },
   "outputs": [
    {
     "data": {
      "text/plain": [
       "Index(['col_0', 'col_1', 'col_2', 'col_3', 'col_4', 'col_5', 'col_6', 'col_7',\n",
       "       'height', 'weight', 'reach', 'wins', 'losses', 'draws', 'SLpM',\n",
       "       'Str_Acc', 'SApM', 'Str_Dep', 'TD_Avg', 'TD_Acc', 'TD_Def', 'Sub_Avg',\n",
       "       'full_name'],\n",
       "      dtype='object')"
      ]
     },
     "execution_count": 40,
     "metadata": {},
     "output_type": "execute_result"
    }
   ],
   "source": [
    "fighter_data_relevant.columns"
   ]
  },
  {
   "cell_type": "code",
   "execution_count": 41,
   "metadata": {
    "hidden": true
   },
   "outputs": [
    {
     "data": {
      "text/html": [
       "<div>\n",
       "<style scoped>\n",
       "    .dataframe tbody tr th:only-of-type {\n",
       "        vertical-align: middle;\n",
       "    }\n",
       "\n",
       "    .dataframe tbody tr th {\n",
       "        vertical-align: top;\n",
       "    }\n",
       "\n",
       "    .dataframe thead th {\n",
       "        text-align: right;\n",
       "    }\n",
       "</style>\n",
       "<table border=\"1\" class=\"dataframe\">\n",
       "  <thead>\n",
       "    <tr style=\"text-align: right;\">\n",
       "      <th></th>\n",
       "      <th>fighter1</th>\n",
       "      <th>fighter2</th>\n",
       "      <th>weight_class</th>\n",
       "      <th>winner</th>\n",
       "    </tr>\n",
       "  </thead>\n",
       "  <tbody>\n",
       "    <tr>\n",
       "      <th>0</th>\n",
       "      <td>Stipe Miocic</td>\n",
       "      <td>Daniel Cormier</td>\n",
       "      <td>Heavyweight</td>\n",
       "      <td>Stipe Miocic</td>\n",
       "    </tr>\n",
       "    <tr>\n",
       "      <th>1</th>\n",
       "      <td>Nate Diaz</td>\n",
       "      <td>Anthony Pettis</td>\n",
       "      <td>Welterweight</td>\n",
       "      <td>Nate Diaz</td>\n",
       "    </tr>\n",
       "    <tr>\n",
       "      <th>2</th>\n",
       "      <td>Paulo Costa</td>\n",
       "      <td>Yoel Romero</td>\n",
       "      <td>Middleweight</td>\n",
       "      <td>Paulo Costa</td>\n",
       "    </tr>\n",
       "    <tr>\n",
       "      <th>3</th>\n",
       "      <td>Sodiq Yusuff</td>\n",
       "      <td>Gabriel Benitez</td>\n",
       "      <td>Featherweight</td>\n",
       "      <td>Sodiq Yusuff</td>\n",
       "    </tr>\n",
       "    <tr>\n",
       "      <th>4</th>\n",
       "      <td>Derek Brunson</td>\n",
       "      <td>Ian Heinisch</td>\n",
       "      <td>Middleweight</td>\n",
       "      <td>Derek Brunson</td>\n",
       "    </tr>\n",
       "  </tbody>\n",
       "</table>\n",
       "</div>"
      ],
      "text/plain": [
       "        fighter1         fighter2   weight_class         winner\n",
       "0   Stipe Miocic   Daniel Cormier    Heavyweight   Stipe Miocic\n",
       "1      Nate Diaz   Anthony Pettis   Welterweight      Nate Diaz\n",
       "2    Paulo Costa      Yoel Romero   Middleweight    Paulo Costa\n",
       "3   Sodiq Yusuff  Gabriel Benitez  Featherweight   Sodiq Yusuff\n",
       "4  Derek Brunson     Ian Heinisch   Middleweight  Derek Brunson"
      ]
     },
     "execution_count": 41,
     "metadata": {},
     "output_type": "execute_result"
    }
   ],
   "source": [
    "# Relevant Fight Data\n",
    "\n",
    "fight_data_relevant = fight_data_full[['fighter1', 'fighter2', 'weight_class', 'winner']]\n",
    "fight_data_relevant.head()"
   ]
  },
  {
   "cell_type": "code",
   "execution_count": 42,
   "metadata": {
    "hidden": true
   },
   "outputs": [],
   "source": [
    "# Get data for fighter 1\n",
    "\n",
    "fight_data_relevant = fight_data_relevant.merge(fighter_data_relevant, left_on=['fighter1'], right_on=['full_name'],\\\n",
    "                                                how='left').drop(columns=['full_name'])\n",
    "fight_data_relevant.rename(columns={'col_0':'col_0_fighter1', 'col_1':'col_1_fighter1', 'col_2':'col_2_fighter1',\\\n",
    "                                    'col_3':'col_3_fighter1', 'col_4':'col_4_fighter1', 'col_5':'col_5_fighter1',\\\n",
    "                                    'col_6':'col_6_fighter1', 'col_7':'col_7_fighter1',\\\n",
    "                                    'height':'height_fighter1', 'weight':'weight_fighter1', 'reach':'reach_fighter1',\\\n",
    "                                    'wins':'wins_fighter1', 'losses':'losses_fighter1', 'draws':'draws_fighter1',\\\n",
    "                                    'SLpM':'SLpM_fighter1','Str_Acc':'Str_Acc_fighter1', 'SApM':'SApM_fighter1',\\\n",
    "                                    'Str_Dep':'Str_Dep_fighter1', 'TD_Avg':'TD_Avg_fighter1', 'TD_Acc':'TD_Acc_fighter1',\\\n",
    "                                    'TD_Def':'TD_Def_fighter1', 'Sub_Avg':'Sub_Avg_fighter1'}, inplace=True)"
   ]
  },
  {
   "cell_type": "code",
   "execution_count": 43,
   "metadata": {
    "hidden": true
   },
   "outputs": [],
   "source": [
    "# Get data for fighter 2\n",
    "\n",
    "fight_data_relevant = fight_data_relevant.merge(fighter_data_relevant, left_on=['fighter2'], right_on=['full_name'],\\\n",
    "                                                how='left').drop(columns=['full_name'])\n",
    "fight_data_relevant.rename(columns={'col_0':'col_0_fighter2', 'col_1':'col_1_fighter2', 'col_2':'col_2_fighter2',\\\n",
    "                                    'col_3':'col_3_fighter2', 'col_4':'col_4_fighter2', 'col_5':'col_5_fighter2',\\\n",
    "                                    'col_6':'col_6_fighter2', 'col_7':'col_7_fighter2',\\\n",
    "                                    'height':'height_fighter2', 'weight':'weight_fighter2', 'reach':'reach_fighter2',\\\n",
    "                                    'wins':'wins_fighter2', 'losses':'losses_fighter2', 'draws':'draws_fighter2',\\\n",
    "                                    'SLpM':'SLpM_fighter2','Str_Acc':'Str_Acc_fighter2', 'SApM':'SApM_fighter2',\\\n",
    "                                    'Str_Dep':'Str_Dep_fighter2', 'TD_Avg':'TD_Avg_fighter2', 'TD_Acc':'TD_Acc_fighter2',\\\n",
    "                                    'TD_Def':'TD_Def_fighter2', 'Sub_Avg':'Sub_Avg_fighter2'}, inplace=True)"
   ]
  },
  {
   "cell_type": "code",
   "execution_count": 44,
   "metadata": {
    "hidden": true
   },
   "outputs": [],
   "source": [
    "# Encode weight class\n",
    "\n",
    "import category_encoders as ce\n",
    "\n",
    "enc = ce.HashingEncoder(cols = ['weight_class'])\n",
    "fight_data_relevant = enc.fit_transform(fight_data_relevant)\n",
    "fight_data_relevant.rename(columns={'col_0':'col_0_weight_class', 'col_1':'col_1_weight_class', 'col_2':'col_2_weight_class',\\\n",
    "                                    'col_3':'col_3_weight_class', 'col_4':'col_4_weight_class', 'col_5':'col_5_weight_class',\\\n",
    "                                    'col_6':'col_6_weight_class', 'col_7':'col_7_weight_class'}, inplace=True)"
   ]
  },
  {
   "cell_type": "code",
   "execution_count": 54,
   "metadata": {
    "hidden": true
   },
   "outputs": [],
   "source": [
    "# Encode winner\n",
    "\n",
    "fight_data_relevant_en = fight_data_relevant.copy()\n",
    "fight_data_relevant['winner_en'] = np.where(fight_data_relevant['winner']==fight_data_relevant['fighter1'], 0, 1)\n",
    "fight_data_relevant.drop(columns=['fighter1', 'fighter2', 'winner'], inplace=True)\n"
   ]
  },
  {
   "cell_type": "code",
   "execution_count": 61,
   "metadata": {
    "hidden": true
   },
   "outputs": [],
   "source": [
    "# with open ('../data/fight_data_relevant.pkl', 'wb') as pklfile:\n",
    "#     pickle.dump(fight_data_relevant, pklfile)"
   ]
  },
  {
   "cell_type": "markdown",
   "metadata": {
    "heading_collapsed": true,
    "hidden": true
   },
   "source": [
    "### Misc Encoding"
   ]
  },
  {
   "cell_type": "code",
   "execution_count": null,
   "metadata": {
    "hidden": true
   },
   "outputs": [],
   "source": [
    "fighter_full_name = pd.DataFrame()\n",
    "fighter_full_name['full_name'] = fighter_full_name_unique\n",
    "fighter_full_name['full_name_enc'] = fighter_full_name_unique_enc\n",
    "fighter_full_name.head()"
   ]
  },
  {
   "cell_type": "code",
   "execution_count": null,
   "metadata": {
    "hidden": true
   },
   "outputs": [],
   "source": [
    "# fight_data_full_ = fight_data_full_.merge(fighter_full_name, left_on=['fighter1'], right_on=['full_name'],\\\n",
    "#                                           how='left').drop(columns=['full_name', 'fighter1'])\n",
    "# fight_data_full_.rename(columns={'full_name_enc':'fighter1_enc'}, inplace=True)\n",
    "\n",
    "# fight_data_full_ = fight_data_full_.merge(fighter_full_name, left_on=['fighter2'], right_on=['full_name'],\\\n",
    "#                                           how='left').drop(columns=['full_name', 'fighter2'])\n",
    "# fight_data_full_.rename(columns={'full_name_enc':'fighter2_enc'}, inplace=True)\n",
    "\n",
    "# fight_data_full_ = fight_data_full_.merge(fighter_full_name, left_on=['winner'], right_on=['full_name'],\\\n",
    "#                                           how='left').drop(columns=['full_name', 'winner'])\n",
    "# fight_data_full_.rename(columns={'full_name_enc':'winner_enc'}, inplace=True)"
   ]
  },
  {
   "cell_type": "code",
   "execution_count": null,
   "metadata": {
    "hidden": true
   },
   "outputs": [],
   "source": [
    "fight_data_full_.tail()"
   ]
  },
  {
   "cell_type": "code",
   "execution_count": null,
   "metadata": {
    "hidden": true
   },
   "outputs": [],
   "source": [
    "# fight_data_full_['round'] = pd.to_numeric(fight_data_full_['round'])\n",
    "\n",
    "# fight_data_full_['fighter1_SLpM'] = pd.to_numeric(fight_data_full_['fighter1_SLpM'])\n",
    "\n",
    "# fight_data_full_['fighter1_Str_Acc'] = fight_data_full_['fighter1_Str_Acc'].str.replace('%', '')\n",
    "# fight_data_full_['fighter1_Str_Acc'] = pd.to_numeric(fight_data_full_['fighter1_Str_Acc'])\n",
    "\n",
    "# fight_data_full_['fighter1_SApM'] = pd.to_numeric(fight_data_full_['fighter1_SApM'])\n",
    "\n",
    "# fight_data_full_['fighter1_Str_Dep'] = fight_data_full_['fighter1_Str_Dep'].str.replace('%', '')\n",
    "# fight_data_full_['fighter1_Str_Dep'] = pd.to_numeric(fight_data_full_['fighter1_Str_Dep'])\n",
    "\n",
    "# fight_data_full_['fighter1_TD_Avg'] = pd.to_numeric(fight_data_full_['fighter1_TD_Avg'])\n",
    "\n",
    "# fight_data_full_['fighter1_TD_Acc'] = fight_data_full_['fighter1_TD_Acc'].str.replace('%', '')\n",
    "# fight_data_full_['fighter1_TD_Acc'] = pd.to_numeric(fight_data_full_['fighter1_TD_Acc'])\n",
    "\n",
    "# fight_data_full_['fighter1_TD_Def'] = fight_data_full_['fighter1_TD_Def'].str.replace('%', '')\n",
    "# fight_data_full_['fighter1_TD_Def'] = pd.to_numeric(fight_data_full_['fighter1_TD_Def'])\n",
    "\n",
    "# fight_data_full_['fighter1_Sub_Avg'] = pd.to_numeric(fight_data_full_['fighter1_Sub_Avg'])\n",
    "\n",
    "# fight_data_full_['fighter2_SLpM'] = pd.to_numeric(fight_data_full_['fighter2_SLpM'])\n",
    "# fight_data_full_['fighter2_SApM'] = pd.to_numeric(fight_data_full_['fighter2_SApM'])\n",
    "# fight_data_full_['fighter2_TD_Avg'] = pd.to_numeric(fight_data_full_['fighter2_TD_Avg'])\n",
    "# fight_data_full_['fighter2_Sub_Avg'] = pd.to_numeric(fight_data_full_['fighter2_Sub_Avg'])\n",
    "\n",
    "# fight_data_full_['fighter2_Str_Acc'] = fight_data_full_['fighter2_Str_Acc'].str.replace('%', '')\n",
    "# fight_data_full_['fighter2_Str_Acc'] = pd.to_numeric(fight_data_full_['fighter2_Str_Acc'])\n",
    "\n",
    "# fight_data_full_['fighter2_Str_Dep'] = fight_data_full_['fighter2_Str_Dep'].str.replace('%', '')\n",
    "# fight_data_full_['fighter2_Str_Dep'] = pd.to_numeric(fight_data_full_['fighter2_Str_Dep'])\n",
    "\n",
    "# fight_data_full_['fighter2_TD_Acc'] = fight_data_full_['fighter2_TD_Acc'].str.replace('%', '')\n",
    "# fight_data_full_['fighter2_TD_Acc'] = pd.to_numeric(fight_data_full_['fighter2_TD_Acc'])\n",
    "\n",
    "# fight_data_full_['fighter2_TD_Def'] = fight_data_full_['fighter2_TD_Def'].str.replace('%', '')\n",
    "# fight_data_full_['fighter2_TD_Def'] = pd.to_numeric(fight_data_full_['fighter2_TD_Def'])\n",
    "\n"
   ]
  },
  {
   "cell_type": "code",
   "execution_count": null,
   "metadata": {
    "hidden": true
   },
   "outputs": [],
   "source": [
    "for col in fight_data_full_.columns.tolist():\n",
    "    print (f'{col} => {type(fight_data_full_.loc[0][col])}')"
   ]
  },
  {
   "cell_type": "code",
   "execution_count": null,
   "metadata": {
    "hidden": true
   },
   "outputs": [],
   "source": [
    "# with open('../data/fighter_full_name.pkl', 'wb') as pklfile:\n",
    "#     pickle.dump(fighter_full_name, pklfile)\n",
    "\n",
    "# with open('../data/fight_data_full_en.pkl', 'wb') as pklfile:\n",
    "#     pickle.dump(fight_data_full_, pklfile)"
   ]
  },
  {
   "cell_type": "markdown",
   "metadata": {},
   "source": [
    "# Model"
   ]
  },
  {
   "cell_type": "markdown",
   "metadata": {},
   "source": [
    "## Load Datasets"
   ]
  },
  {
   "cell_type": "code",
   "execution_count": 2,
   "metadata": {},
   "outputs": [],
   "source": [
    "with open ('../data/fighter_data.pkl', 'rb') as pklfile:\n",
    "    fighter_data = pickle.load(pklfile)\n",
    "\n",
    "with open ('../data/fighter_data_en.pkl', 'rb') as pklfile:\n",
    "    fighter_data_en = pickle.load(pklfile)\n",
    "\n",
    "with open ('../data/fighter_data_relevant.pkl', 'rb') as pklfile:\n",
    "    fighter_data_relevant = pickle.load(pklfile)    \n",
    "    \n",
    "with open ('../data/fighter_full_name.pkl', 'rb') as pklfile:\n",
    "    fighter_full_name = pickle.load(pklfile)    \n",
    "\n",
    "with open ('../data/fight_card_data_.pkl', 'rb') as pklfile:\n",
    "    fight_card_data_ = pickle.load(pklfile)   \n",
    "    \n",
    "with open ('../data/fight_data_full.pkl', 'rb') as pklfile:\n",
    "    fight_data_full = pickle.load(pklfile) \n",
    "    \n",
    "with open ('../data/fight_data_full_en.pkl', 'rb') as pklfile:\n",
    "    fight_data_full_en = pickle.load(pklfile)\n",
    "\n",
    "with open ('../data/fight_data_relevant.pkl', 'rb') as pklfile:\n",
    "    fight_data_relevant = pickle.load(pklfile)\n"
   ]
  },
  {
   "cell_type": "markdown",
   "metadata": {
    "heading_collapsed": true
   },
   "source": [
    "## Evaluate"
   ]
  },
  {
   "cell_type": "code",
   "execution_count": 66,
   "metadata": {
    "hidden": true
   },
   "outputs": [],
   "source": [
    "# X = scale('standard', fight_data_full_en.iloc[:,:-1])\n",
    "# y = fight_data_full_en.iloc[:,-1]\n",
    "\n",
    "X = scale('standard', fight_data_relevant.iloc[:,:-1])\n",
    "y = fight_data_relevant.iloc[:,-1]"
   ]
  },
  {
   "cell_type": "code",
   "execution_count": 72,
   "metadata": {
    "hidden": true
   },
   "outputs": [
    {
     "name": "stdout",
     "output_type": "stream",
     "text": [
      "11.96%\t8.58%\t5.86%\t4.80%\t4.68%\t4.38%\t4.16%\t3.74%\t3.51%\t3.02%\t2.79%\t2.68%\t2.60%\t2.51%\t2.42%\t2.36%\t2.31%\t2.18%\t2.01%\t1.99%\t1.87%\t1.73%\t1.63%\t1.60%\t1.43%\t1.40%\t1.37%\t1.28%\t1.24%\t1.20%\t1.04%\t1.04%\t\n",
      "95.37%\n"
     ]
    }
   ],
   "source": [
    "def pca (data):\n",
    "  from sklearn.decomposition import PCA\n",
    "#   pca = PCA(n_components=10)\n",
    "  pca = PCA(.95)   # retain 95% of variance\n",
    "  principalComponents_train = pca.fit_transform(data)\n",
    "  pac_vars_train = [print (f'{pac_var*100:.2f}%\\t', end=\"\") for pac_var in pca.explained_variance_ratio_]\n",
    "  print ()\n",
    "  print (f'{np.sum(pca.explained_variance_ratio_)*100:.2f}%')\n",
    "  return (principalComponents_train)\n",
    "\n",
    "X_scaled = scale('standard', fight_data_relevant.iloc[:,:-1])\n",
    "pc = pca(X_scaled)"
   ]
  },
  {
   "cell_type": "markdown",
   "metadata": {
    "hidden": true
   },
   "source": [
    "### cross_val_score on ML Classifiers"
   ]
  },
  {
   "cell_type": "code",
   "execution_count": 73,
   "metadata": {
    "hidden": true
   },
   "outputs": [
    {
     "data": {
      "text/plain": [
       "0.6488572686187761"
      ]
     },
     "execution_count": 73,
     "metadata": {},
     "output_type": "execute_result"
    }
   ],
   "source": [
    "# Random Forrest\n",
    "\n",
    "# score_rf = cross_val_score(RandomForestClassifier(n_estimators=100), X, y, cv=3)\n",
    "score_rf = cross_val_score(RandomForestClassifier(n_estimators=100), pc, y, cv=3)\n",
    "np.mean(score_rf)"
   ]
  },
  {
   "cell_type": "code",
   "execution_count": 75,
   "metadata": {
    "hidden": true
   },
   "outputs": [
    {
     "data": {
      "text/plain": [
       "0.7000424790790536"
      ]
     },
     "execution_count": 75,
     "metadata": {},
     "output_type": "execute_result"
    }
   ],
   "source": [
    "# LightGBM\n",
    "\n",
    "lgb_params = {\n",
    "                 'boosting_type' : 'dart', 'objective' : 'binary','learning_rate' : 0.06,\n",
    "                  'n_estimators' : 500,  'max_bin' : 100, 'n_jobs' : 2, 'num_leaves' : 50,\n",
    "                 }\n",
    "\n",
    "\n",
    "lgb_params = {\n",
    "                 'n_estimators' : 500, 'boosting_type' : 'dart'\n",
    "                 }\n",
    "\n",
    "score_lgb = cross_val_score(lgb.LGBMClassifier(**lgb_params),X, y, cv=5,)\n",
    "# score_lgb = cross_val_score(\n",
    "#     lgb.LGBMClassifier(objective='binary', metric='binary_logloss', n_estimators=100, num_leaves=10,), \n",
    "#     pc, y, cv=5,)\n",
    "np.mean(score_lgb)"
   ]
  },
  {
   "cell_type": "markdown",
   "metadata": {},
   "source": [
    "## Predict"
   ]
  },
  {
   "cell_type": "code",
   "execution_count": 11,
   "metadata": {},
   "outputs": [],
   "source": [
    "# Load & prepare training dataset\n",
    "X = scale('standard', fight_data_relevant.iloc[:,:-1])\n",
    "y = fight_data_relevant.iloc[:,-1]\n",
    "\n",
    "# Load & prepare dataset for prediction\n",
    "\n",
    "# fighter_data[fighter_data['full_name'].str.contains('Poirier')].full_name, fight_data_full.weight_class.unique()\n",
    "df_fight_card = pd.read_excel('../data/fight_card.xlsx')\n",
    "# df_fight_card = pd.DataFrame(\n",
    "#     {\n",
    "#         'weight_class' : [\"Women's Strawweight\", \"Welterweight\", \"Flyweight\", \"Women's Flyweight\", \"Middleweight\", \n",
    "#                           \"Lightweight\"],\n",
    "#         'fighter1' : [\"Jessica Andrade\", \"Li Jingliang\", \"Kai Kara-France\", \"Wu Yanan\", \"Robert Whittaker\",\n",
    "#                       \"Khabib Nurmagomedov\",],\n",
    "#         'fighter2' : [\"Weili Zhang\", \"Elizeu Zaleski dos Santos\", \"Mark De La Rosa\", \"Mizuki Inoue\", \"Israel Adesanya\",\n",
    "#                       \"Dustin Poirier\"],\n",
    "#     }\n",
    "# )\n",
    "\n",
    "# Encode weight class\n",
    "\n",
    "import category_encoders as ce\n",
    "\n",
    "enc = ce.HashingEncoder(cols = ['weight_class'])\n",
    "X_test = enc.fit_transform(df_fight_card)\n",
    "X_test.rename(columns={'col_0':'col_0_weight_class', 'col_1':'col_1_weight_class', 'col_2':'col_2_weight_class',\\\n",
    "                                    'col_3':'col_3_weight_class', 'col_4':'col_4_weight_class', 'col_5':'col_5_weight_class',\\\n",
    "                                    'col_6':'col_6_weight_class', 'col_7':'col_7_weight_class'}, inplace=True)\n",
    "\n",
    "# Get data for fighter1\n",
    "\n",
    "X_test = X_test.merge(fighter_data_relevant, left_on=['fighter1'], right_on=['full_name'],\\\n",
    "                                                how='left').drop(columns=['full_name', 'fighter1'])\n",
    "X_test.rename(columns={'col_0':'col_0_fighter1', 'col_1':'col_1_fighter1', 'col_2':'col_2_fighter1',\\\n",
    "                                    'col_3':'col_3_fighter1', 'col_4':'col_4_fighter1', 'col_5':'col_5_fighter1',\\\n",
    "                                    'col_6':'col_6_fighter1', 'col_7':'col_7_fighter1',\\\n",
    "                                    'height':'height_fighter1', 'weight':'weight_fighter1', 'reach':'reach_fighter1',\\\n",
    "                                    'wins':'wins_fighter1', 'losses':'losses_fighter1', 'draws':'draws_fighter1',\\\n",
    "                                    'SLpM':'SLpM_fighter1','Str_Acc':'Str_Acc_fighter1', 'SApM':'SApM_fighter1',\\\n",
    "                                    'Str_Dep':'Str_Dep_fighter1', 'TD_Avg':'TD_Avg_fighter1', 'TD_Acc':'TD_Acc_fighter1',\\\n",
    "                                    'TD_Def':'TD_Def_fighter1', 'Sub_Avg':'Sub_Avg_fighter1'}, inplace=True)\n",
    "\n",
    "\n",
    "# Get data for fighter 2\n",
    "\n",
    "X_test = X_test.merge(fighter_data_relevant, left_on=['fighter2'], right_on=['full_name'],\\\n",
    "                                                how='left').drop(columns=['full_name', 'fighter2'])\n",
    "X_test.rename(columns={'col_0':'col_0_fighter2', 'col_1':'col_1_fighter2', 'col_2':'col_2_fighter2',\\\n",
    "                                    'col_3':'col_3_fighter2', 'col_4':'col_4_fighter2', 'col_5':'col_5_fighter2',\\\n",
    "                                    'col_6':'col_6_fighter2', 'col_7':'col_7_fighter2',\\\n",
    "                                    'height':'height_fighter2', 'weight':'weight_fighter2', 'reach':'reach_fighter2',\\\n",
    "                                    'wins':'wins_fighter2', 'losses':'losses_fighter2', 'draws':'draws_fighter2',\\\n",
    "                                    'SLpM':'SLpM_fighter2','Str_Acc':'Str_Acc_fighter2', 'SApM':'SApM_fighter2',\\\n",
    "                                    'Str_Dep':'Str_Dep_fighter2', 'TD_Avg':'TD_Avg_fighter2', 'TD_Acc':'TD_Acc_fighter2',\\\n",
    "                                    'TD_Def':'TD_Def_fighter2', 'Sub_Avg':'Sub_Avg_fighter2'}, inplace=True)\n",
    "\n",
    "X_test = scale('standard', X_test)"
   ]
  },
  {
   "cell_type": "code",
   "execution_count": 12,
   "metadata": {},
   "outputs": [
    {
     "data": {
      "text/html": [
       "<div>\n",
       "<style scoped>\n",
       "    .dataframe tbody tr th:only-of-type {\n",
       "        vertical-align: middle;\n",
       "    }\n",
       "\n",
       "    .dataframe tbody tr th {\n",
       "        vertical-align: top;\n",
       "    }\n",
       "\n",
       "    .dataframe thead th {\n",
       "        text-align: right;\n",
       "    }\n",
       "</style>\n",
       "<table border=\"1\" class=\"dataframe\">\n",
       "  <thead>\n",
       "    <tr style=\"text-align: right;\">\n",
       "      <th></th>\n",
       "      <th>weight_class</th>\n",
       "      <th>fighter1</th>\n",
       "      <th>fighter2</th>\n",
       "      <th>Winner Prediction</th>\n",
       "    </tr>\n",
       "  </thead>\n",
       "  <tbody>\n",
       "    <tr>\n",
       "      <th>0</th>\n",
       "      <td>Women's Strawweight</td>\n",
       "      <td>Jessica Andrade</td>\n",
       "      <td>Weili Zhang</td>\n",
       "      <td>Weili Zhang</td>\n",
       "    </tr>\n",
       "    <tr>\n",
       "      <th>1</th>\n",
       "      <td>Welterweight</td>\n",
       "      <td>Li Jingliang</td>\n",
       "      <td>Elizeu Zaleski dos Santos</td>\n",
       "      <td>Elizeu Zaleski dos Santos</td>\n",
       "    </tr>\n",
       "    <tr>\n",
       "      <th>2</th>\n",
       "      <td>Flyweight</td>\n",
       "      <td>Kai Kara-France</td>\n",
       "      <td>Mark De La Rosa</td>\n",
       "      <td>Kai Kara-France</td>\n",
       "    </tr>\n",
       "    <tr>\n",
       "      <th>3</th>\n",
       "      <td>Women's Flyweight</td>\n",
       "      <td>Wu Yanan</td>\n",
       "      <td>Mizuki Inoue</td>\n",
       "      <td>Wu Yanan</td>\n",
       "    </tr>\n",
       "    <tr>\n",
       "      <th>4</th>\n",
       "      <td>Middleweight</td>\n",
       "      <td>Robert Whittaker</td>\n",
       "      <td>Israel Adesanya</td>\n",
       "      <td>Israel Adesanya</td>\n",
       "    </tr>\n",
       "    <tr>\n",
       "      <th>5</th>\n",
       "      <td>Lightweight</td>\n",
       "      <td>Khabib Nurmagomedov</td>\n",
       "      <td>Dustin Poirier</td>\n",
       "      <td>Khabib Nurmagomedov</td>\n",
       "    </tr>\n",
       "  </tbody>\n",
       "</table>\n",
       "</div>"
      ],
      "text/plain": [
       "          weight_class             fighter1                   fighter2  \\\n",
       "0  Women's Strawweight      Jessica Andrade                Weili Zhang   \n",
       "1         Welterweight         Li Jingliang  Elizeu Zaleski dos Santos   \n",
       "2            Flyweight      Kai Kara-France            Mark De La Rosa   \n",
       "3    Women's Flyweight             Wu Yanan               Mizuki Inoue   \n",
       "4         Middleweight     Robert Whittaker            Israel Adesanya   \n",
       "5          Lightweight  Khabib Nurmagomedov             Dustin Poirier   \n",
       "\n",
       "           Winner Prediction  \n",
       "0                Weili Zhang  \n",
       "1  Elizeu Zaleski dos Santos  \n",
       "2            Kai Kara-France  \n",
       "3                   Wu Yanan  \n",
       "4            Israel Adesanya  \n",
       "5        Khabib Nurmagomedov  "
      ]
     },
     "execution_count": 12,
     "metadata": {},
     "output_type": "execute_result"
    }
   ],
   "source": [
    "# LightGBM\n",
    "import lightgbm as lgb\n",
    "\n",
    "lgb_params = {\n",
    "                 'n_estimators' : 500, 'boosting_type' : 'dart'\n",
    "                 }\n",
    "\n",
    "lgbm = lgb.LGBMClassifier(**lgb_params)\n",
    "lgbm.fit(X, y)\n",
    "# lgbm_score = lgbm.score(X, y)\n",
    "# print (f'LightGBM score on test data = {lgbm_score*100:.2f}%')\n",
    "\n",
    "y_pred_lgbm = lgbm.predict(X_test)\n",
    "preds = []\n",
    "\n",
    "for idx, val in enumerate(y_pred_lgbm):\n",
    "    if (val == 0):\n",
    "        preds.append(df_fight_card.fighter1[idx])\n",
    "    else:\n",
    "        preds.append(df_fight_card.fighter2[idx])\n",
    "\n",
    "df_fight_card['Winner Prediction'] = preds\n",
    "\n",
    "df_fight_card\n"
   ]
  },
  {
   "cell_type": "markdown",
   "metadata": {
    "heading_collapsed": true
   },
   "source": [
    "### Deep Learning"
   ]
  },
  {
   "cell_type": "code",
   "execution_count": null,
   "metadata": {
    "hidden": true
   },
   "outputs": [],
   "source": [
    "import tensorflow as tf\n",
    "\n",
    "\n",
    "from tensorflow.keras.models import Sequential\n",
    "from tensorflow.keras.layers import LSTM, Conv1D, GlobalAveragePooling1D, MaxPooling1D\n",
    "from tensorflow.keras.layers import Activation, Dropout, Flatten, Dense\n",
    "from tensorflow.keras.callbacks import TensorBoard\n",
    "from tensorflow.keras.optimizers import Adam\n",
    "from tensorflow.keras import metrics\n",
    "\n",
    "from sklearn.metrics import accuracy_score\n",
    "import matplotlib.pyplot as plt\n",
    "%matplotlib inline"
   ]
  },
  {
   "cell_type": "code",
   "execution_count": null,
   "metadata": {
    "hidden": true
   },
   "outputs": [],
   "source": [
    "\n",
    "def plot_hist(history):\n",
    "  history_dict=history.history\n",
    "  loss_values = history_dict['loss']\n",
    "  val_loss_values=history_dict['val_loss']\n",
    "  plt.figure(figsize=(10,6))\n",
    "  plt.xlabel('Epochs')\n",
    "  plt.plot(loss_values, color='Blue', linestyle='dashed', marker='o', label='Training Loss')\n",
    "  plt.plot(val_loss_values,color='Red', label='Validation Loss')\n",
    "  plt.legend()\n",
    "  plt.show()\n",
    "\n",
    "def model1(X, y):\n",
    "  name = 'Model 1'\n",
    "\n",
    "  input_shape = X[0].shape\n",
    "\n",
    "  model = Sequential()\n",
    "  model.add(Dense(256, input_shape=input_shape, activation='softmax'))\n",
    "  model.add(Dropout(0.2))\n",
    "  model.add(Dense(128, activation='relu'))\n",
    "  model.add(Dense(128, activation='relu'))\n",
    "  model.add(Dense(64, activation='relu'))\n",
    "  model.add(Dropout(0.2))\n",
    "  model.add(Dense(2, activation='linear'))\n",
    "  model.compile(optimizer='adam', \n",
    "                loss='sparse_categorical_crossentropy',\n",
    "                metrics=[metrics.sparse_categorical_accuracy])\n",
    "\n",
    "  # Runs model and assigns it to 'history'\n",
    "  history = model.fit(X, y, epochs = 200, batch_size=32, validation_split = 0.2, verbose=0)\n",
    "\n",
    "  y_pred = model.predict(X)\n",
    "#   print(f'{name}: Accuracy the Train set is:\\t{accuracy_score(y, y_pred):.3f}')\n",
    "  \n",
    "  # Plot Training & Validation Loss\n",
    "  plot_hist(history)\n",
    "  \n",
    "  return(model)"
   ]
  },
  {
   "cell_type": "code",
   "execution_count": null,
   "metadata": {
    "hidden": true
   },
   "outputs": [],
   "source": [
    "y_pred = model_1.predict(X)\n",
    "y_pred[0]"
   ]
  },
  {
   "cell_type": "code",
   "execution_count": null,
   "metadata": {
    "hidden": true
   },
   "outputs": [],
   "source": [
    "iters = 1\n",
    "\n",
    "for iter in range(iters):\n",
    "  model_1 = model1(X, y)"
   ]
  },
  {
   "cell_type": "code",
   "execution_count": null,
   "metadata": {
    "hidden": true
   },
   "outputs": [],
   "source": [
    "from tensorflow.keras.utils import to_categorical\n",
    "y_binary = to_categorical(y)\n"
   ]
  }
 ],
 "metadata": {
  "kernelspec": {
   "display_name": "Python 3",
   "language": "python",
   "name": "python3"
  },
  "language_info": {
   "codemirror_mode": {
    "name": "ipython",
    "version": 3
   },
   "file_extension": ".py",
   "mimetype": "text/x-python",
   "name": "python",
   "nbconvert_exporter": "python",
   "pygments_lexer": "ipython3",
   "version": "3.7.3"
  }
 },
 "nbformat": 4,
 "nbformat_minor": 2
}
